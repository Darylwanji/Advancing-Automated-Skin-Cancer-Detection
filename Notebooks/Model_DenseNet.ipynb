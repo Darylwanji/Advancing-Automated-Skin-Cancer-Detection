{
 "cells": [
  {
   "cell_type": "code",
   "execution_count": 5,
   "metadata": {},
   "outputs": [],
   "source": [
    "import matplotlib.pyplot as plt\n",
    "import pandas as pd\n",
    "import os\n",
    "import shutil\n",
    "import numpy as np\n",
    "import tensorflow as tf\n",
    "import seaborn as sns\n",
    "import matplotlib.pyplot as plt\n",
    "%matplotlib inline\n",
    "import warnings\n",
    "warnings.filterwarnings('ignore')\n",
    "from sklearn.model_selection import train_test_split"
   ]
  },
  {
   "cell_type": "code",
   "execution_count": 6,
   "metadata": {},
   "outputs": [],
   "source": [
    "# Path to Images Dataset Images\n",
    "Images_path_part1 = '/Users/darylwanji/Desktop/Computer_Vision_Capstone_Project/data/HAM10000_images_part_1'\n",
    "Images_path_part2 = '/Users/darylwanji/Desktop/Computer_Vision_Capstone_Project/data/HAM10000_images_part_2'\n",
    "\n",
    "# Path to All Images in Dataset\n",
    "final_path = '/Users/darylwanji/Desktop/Computer_Vision_Capstone_Project/data/All_Images'"
   ]
  },
  {
   "cell_type": "code",
   "execution_count": 7,
   "metadata": {},
   "outputs": [],
   "source": [
    "\n",
    "def copy_image_files(src_folder, dest_folder):\n",
    "    \"\"\"\n",
    "    Copy image files from the source folder to the destination folder.\n",
    "\n",
    "    Parameters:\n",
    "    src_folder (str): Path to the source folder containing image files.\n",
    "    dest_folder (str): Path to the destination folder where image files will be copied.\n",
    "\n",
    "    Returns:\n",
    "    None\n",
    "    \"\"\"\n",
    "    for filename in os.listdir(src_folder):\n",
    "        if filename.endswith('.jpg') or filename.endswith('.png'):\n",
    "            shutil.copy(os.path.join(src_folder, filename), dest_folder)\n",
    "\n",
    "        \n",
    "# Create the destination folder if it doesn't exist\n",
    "if not os.path.exists(final_path):\n",
    "    os.makedirs(final_path)\n",
    "\n",
    "copy_image_files(Images_path_part1, final_path)\n",
    "copy_image_files(Images_path_part2, final_path)"
   ]
  }
 ],
 "metadata": {
  "kernelspec": {
   "display_name": "Python 3",
   "language": "python",
   "name": "python3"
  },
  "language_info": {
   "codemirror_mode": {
    "name": "ipython",
    "version": 3
   },
   "file_extension": ".py",
   "mimetype": "text/x-python",
   "name": "python",
   "nbconvert_exporter": "python",
   "pygments_lexer": "ipython3",
   "version": "3.11.5"
  }
 },
 "nbformat": 4,
 "nbformat_minor": 2
}
